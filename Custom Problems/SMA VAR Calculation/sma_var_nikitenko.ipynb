{
 "cells": [
  {
   "cell_type": "code",
   "execution_count": 1,
   "metadata": {},
   "outputs": [],
   "source": [
    "# import libraries\n",
    "import csv\n",
    "import numpy as np\n",
    "from decimal import *"
   ]
  },
  {
   "cell_type": "code",
   "execution_count": 4,
   "metadata": {},
   "outputs": [],
   "source": [
    "def result(filename):\n",
    "    \n",
    "    # define class object to store cumulative numbers\n",
    "    class Calculator:\n",
    "        \n",
    "        def __init__(self):\n",
    "            self.sma = 0\n",
    "            self.sma_square = 0\n",
    "            self.counter = 0\n",
    "            \n",
    "        # at each step we need only previous E[X]^2 and E[X^2], get use of formula D[X] = E[X^2] - E[X]^2\n",
    "        def calculate(self, data):\n",
    "            self.counter += 1\n",
    "        \n",
    "            if self.counter == 1:\n",
    "                self.sma = data\n",
    "                self.sma_square = data**2\n",
    "                std = 0\n",
    "            else:\n",
    "                self.sma = (self.sma * (self.counter -1) + data)/self.counter\n",
    "                self.sma_square = (self.sma_square * (self.counter -1) + data**2)/self.counter\n",
    "                # adjust std for bias\n",
    "                std = (np.sqrt(self.sma_square - self.sma**2))*(np.sqrt(Decimal(self.counter)/Decimal(self.counter-1)))\n",
    "                \n",
    "            if self.counter in (1, 100, 1000000, 500000000):\n",
    "                print('SMA[{}]: {}'.format(self.counter, round(self.sma,20)), '___', 'STD_DEV[{}]: {}'.format(self.counter, round(std,20)))\n",
    "                \n",
    "    \n",
    "    # initialize class object\n",
    "    test = Calculator()\n",
    "    \n",
    "    # open file\n",
    "    file = open(filename, 'r')\n",
    "    csv_file = csv.reader(file, delimiter=\"\\t\")\n",
    "    \n",
    "    # calculate final result (note I transform each initial value to Decimal object to preserve precise calculations)\n",
    "    for line in csv_file:\n",
    "        test.calculate((Decimal(line[0])))\n",
    "        \n",
    "    # close file\n",
    "    file.close()\n",
    "       \n",
    "    "
   ]
  },
  {
   "cell_type": "code",
   "execution_count": 5,
   "metadata": {},
   "outputs": [
    {
     "name": "stdout",
     "output_type": "stream",
     "text": [
      "SMA[1]: 5987000.00000000000000000000 ___ STD_DEV[1]: 0\n",
      "SMA[100]: 5987000.00050000000000000000 ___ STD_DEV[100]: 0.00050251890762960604\n",
      "SMA[1000000]: 5987000.00050000000000000000 ___ STD_DEV[1000000]: 0.00050000027000019710\n",
      "SMA[500000000]: 5987000.00050000000000000041 ___ STD_DEV[500000000]: 0.00017022993290827692\n"
     ]
    }
   ],
   "source": [
    "# apply function and print result\n",
    "result('variance_calc.tsv')"
   ]
  },
  {
   "cell_type": "code",
   "execution_count": null,
   "metadata": {},
   "outputs": [],
   "source": []
  }
 ],
 "metadata": {
  "kernelspec": {
   "display_name": "Python 3",
   "language": "python",
   "name": "python3"
  },
  "language_info": {
   "codemirror_mode": {
    "name": "ipython",
    "version": 3
   },
   "file_extension": ".py",
   "mimetype": "text/x-python",
   "name": "python",
   "nbconvert_exporter": "python",
   "pygments_lexer": "ipython3",
   "version": "3.8.5"
  }
 },
 "nbformat": 4,
 "nbformat_minor": 4
}
