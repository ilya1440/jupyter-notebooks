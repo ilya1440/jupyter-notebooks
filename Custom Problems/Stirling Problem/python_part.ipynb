{
 "cells": [
  {
   "cell_type": "markdown",
   "metadata": {},
   "source": [
    "# Задача 2"
   ]
  },
  {
   "cell_type": "markdown",
   "metadata": {},
   "source": [
    "Подготовка данных"
   ]
  },
  {
   "cell_type": "code",
   "execution_count": 1,
   "metadata": {},
   "outputs": [],
   "source": [
    "# import libraries\n",
    "import pandas as pd\n",
    "import matplotlib.pyplot as plt"
   ]
  },
  {
   "cell_type": "code",
   "execution_count": 2,
   "metadata": {},
   "outputs": [],
   "source": [
    "# specify columns to use\n",
    "cols_to_use = ['Country', 'Region', 'Population', 'Area (sq. mi.)', 'Net migration', 'Literacy (%)']\n",
    "# read file as dataframe\n",
    "data = pd.read_csv('countries of the world.csv', usecols = cols_to_use)"
   ]
  },
  {
   "cell_type": "code",
   "execution_count": 3,
   "metadata": {},
   "outputs": [
    {
     "name": "stdout",
     "output_type": "stream",
     "text": [
      "<class 'pandas.core.frame.DataFrame'>\n",
      "RangeIndex: 227 entries, 0 to 226\n",
      "Data columns (total 6 columns):\n",
      " #   Column          Non-Null Count  Dtype \n",
      "---  ------          --------------  ----- \n",
      " 0   Country         227 non-null    object\n",
      " 1   Region          227 non-null    object\n",
      " 2   Population      227 non-null    int64 \n",
      " 3   Area (sq. mi.)  227 non-null    int64 \n",
      " 4   Net migration   224 non-null    object\n",
      " 5   Literacy (%)    209 non-null    object\n",
      "dtypes: int64(2), object(4)\n",
      "memory usage: 10.8+ KB\n",
      "None\n"
     ]
    }
   ],
   "source": [
    "# inspect data\n",
    "print(data.info())"
   ]
  },
  {
   "cell_type": "markdown",
   "metadata": {},
   "source": [
    "В колонках 'Net migration' и 'Literacy (%)' есть несколько пропущенных значений. Более того, нужный тип данных для этих колонок float."
   ]
  },
  {
   "cell_type": "code",
   "execution_count": 4,
   "metadata": {},
   "outputs": [
    {
     "name": "stdout",
     "output_type": "stream",
     "text": [
      "<class 'pandas.core.frame.DataFrame'>\n",
      "RangeIndex: 227 entries, 0 to 226\n",
      "Data columns (total 6 columns):\n",
      " #   Column          Non-Null Count  Dtype  \n",
      "---  ------          --------------  -----  \n",
      " 0   Country         227 non-null    object \n",
      " 1   Region          227 non-null    object \n",
      " 2   Population      227 non-null    int64  \n",
      " 3   Area (sq. mi.)  227 non-null    int64  \n",
      " 4   Net migration   224 non-null    float64\n",
      " 5   Literacy (%)    209 non-null    float64\n",
      "dtypes: float64(2), int64(2), object(2)\n",
      "memory usage: 10.8+ KB\n",
      "None\n"
     ]
    }
   ],
   "source": [
    "# create function to covert values into float format\n",
    "def convert_to_float(x):\n",
    "    if pd.isna(x):\n",
    "        return x\n",
    "    else:\n",
    "        return float(x.replace(\",\",'.'))\n",
    "\n",
    "# apply function to columns\n",
    "data['Net migration'] = data['Net migration'].apply(convert_to_float)\n",
    "data['Literacy (%)'] = data['Literacy (%)'].apply(convert_to_float)\n",
    "\n",
    "# check format again\n",
    "print(data.info())"
   ]
  },
  {
   "cell_type": "code",
   "execution_count": 5,
   "metadata": {},
   "outputs": [],
   "source": [
    "# adjust numbers\n",
    "data['Population'] = data['Population']/1000000\n",
    "data['Area (sq. mi.)'] = data['Area (sq. mi.)']/1000000\n",
    "# rename columns\n",
    "data.columns = ['Country', 'Region', 'Population (mil)', 'Area (sq. mi.)/1 mil', 'Net migration',\n",
    "       'Literacy (%)']"
   ]
  },
  {
   "cell_type": "code",
   "execution_count": 6,
   "metadata": {},
   "outputs": [],
   "source": [
    "# format string type columns\n",
    "data['Region'] = data['Region'].apply(lambda x: x.strip())\n",
    "data['Country'] = data['Country'].apply(lambda x: x.strip())"
   ]
  },
  {
   "cell_type": "code",
   "execution_count": 7,
   "metadata": {},
   "outputs": [
    {
     "name": "stdout",
     "output_type": "stream",
     "text": [
      "[False]\n"
     ]
    }
   ],
   "source": [
    "# check for duplicates\n",
    "print(data.duplicated().unique())"
   ]
  },
  {
   "cell_type": "code",
   "execution_count": 8,
   "metadata": {},
   "outputs": [
    {
     "name": "stdout",
     "output_type": "stream",
     "text": [
      "       Population (mil)  Area (sq. mi.)/1 mil  Net migration  Literacy (%)\n",
      "count        227.000000            227.000000     224.000000    209.000000\n",
      "mean          28.740284              0.598227       0.038125     82.838278\n",
      "std          117.891327              1.790282       4.889269     19.722173\n",
      "min            0.007026              0.000002     -20.990000     17.600000\n",
      "25%            0.437624              0.004647      -0.927500     70.600000\n",
      "50%            4.786994              0.086600       0.000000     92.500000\n",
      "75%           17.497772              0.441811       0.997500     98.000000\n",
      "max         1313.973713             17.075200      23.060000    100.000000\n"
     ]
    }
   ],
   "source": [
    "print(data.describe())"
   ]
  },
  {
   "cell_type": "markdown",
   "metadata": {},
   "source": [
    "Широкий разброс в по населению и площади ожидаем, можно думать, что аномалий в данных нет."
   ]
  },
  {
   "cell_type": "markdown",
   "metadata": {},
   "source": [
    "Вопрос 1"
   ]
  },
  {
   "cell_type": "code",
   "execution_count": 9,
   "metadata": {},
   "outputs": [
    {
     "name": "stdout",
     "output_type": "stream",
     "text": [
      "{'ASIA (EX. NEAR EAST)', 'OCEANIA', 'BALTICS', 'WESTERN EUROPE', 'SUB-SAHARAN AFRICA', 'NORTHERN AFRICA', 'C.W. OF IND. STATES', 'NORTHERN AMERICA', 'NEAR EAST', 'LATIN AMER. & CARIB', 'EASTERN EUROPE'}\n"
     ]
    }
   ],
   "source": [
    "# inspect unique regions\n",
    "print(set(data['Region'].unique()))"
   ]
  },
  {
   "cell_type": "code",
   "execution_count": 10,
   "metadata": {},
   "outputs": [
    {
     "name": "stdout",
     "output_type": "stream",
     "text": [
      "Медианное значение площади стран Океании в квадратных милях: 811.0\n"
     ]
    }
   ],
   "source": [
    "# print result\n",
    "print('Медианное значение площади стран Океании в квадратных милях: {}'.format(data[data['Region'] == 'OCEANIA']['Area (sq. mi.)/1 mil'].median()*1000000))"
   ]
  },
  {
   "cell_type": "markdown",
   "metadata": {},
   "source": [
    "Вопрос 2"
   ]
  },
  {
   "cell_type": "code",
   "execution_count": 11,
   "metadata": {},
   "outputs": [
    {
     "name": "stdout",
     "output_type": "stream",
     "text": [
      "        Country  Literacy (%)\n",
      "0         Niger          17.6\n",
      "1  Burkina Faso          26.6\n",
      "2  Sierra Leone          31.4\n",
      "3        Guinea          35.9\n",
      "4   Afghanistan          36.0\n",
      "5       Somalia          37.8\n",
      "6   Gambia, The          40.1\n",
      "7       Senegal          40.2\n",
      "8          Iraq          40.4\n",
      "9         Benin          40.9\n"
     ]
    }
   ],
   "source": [
    "# print result (only among those countries that have not-nun value for literacy)\n",
    "print(data.sort_values('Literacy (%)').head(10)[['Country', 'Literacy (%)']].reset_index(drop=True))"
   ]
  },
  {
   "cell_type": "markdown",
   "metadata": {},
   "source": [
    "Вопрос 3"
   ]
  },
  {
   "cell_type": "code",
   "execution_count": 12,
   "metadata": {},
   "outputs": [
    {
     "data": {
      "image/png": "[encoded data removed]",
      "text/plain": [
       "<Figure size 432x288 with 1 Axes>"
      ]
     },
     "metadata": {
      "needs_background": "light"
     },
     "output_type": "display_data"
    }
   ],
   "source": [
    "# aggregate data with pivot table and plot results\n",
    "total_pop = pd.pivot_table(data, 'Population (mil)', 'Region', aggfunc = 'sum').sort_values('Population (mil)', ascending = False)\n",
    "total_pop.plot(kind = 'bar')\n",
    "plt.title('World population by region')\n",
    "plt.show()"
   ]
  },
  {
   "cell_type": "markdown",
   "metadata": {},
   "source": [
    "Вопрос 4"
   ]
  },
  {
   "cell_type": "markdown",
   "metadata": {},
   "source": [
    "Как я понимаю, Net migration считается как разность количества иммигрантов и количества эммигрантов, поделенная на среднее количество населения за определенный период и умноженная на 1000. При этом данные представлены для отдельных стран. То есть если мы будем аггрегировать по регионам, мы не сможем посчитать  Net migration для отдельно взятого региона, потому что высока вероятность того, что большая часть миграции происходит в рамках соседних стран.\n",
    "\n",
    "Поэтому я предлагаю посчитать средний уровень миграции на уровне страны внутри каждого региона. В качестве весов при подсчете среднего возьмем долю населения конкретной страны в общем населении для региона.\n",
    "\n",
    "При подсчете исключим страны, для которых нет значения Net Migration (их всего 3)."
   ]
  },
  {
   "cell_type": "code",
   "execution_count": 13,
   "metadata": {},
   "outputs": [
    {
     "name": "stdout",
     "output_type": "stream",
     "text": [
      "                      Weighted NM\n",
      "Region                           \n",
      "BALTICS                 -1.642810\n",
      "LATIN AMER. & CARIB     -1.534904\n",
      "EASTERN EUROPE          -0.482372\n",
      "NORTHERN AFRICA         -0.424852\n",
      "C.W. OF IND. STATES     -0.227466\n",
      "ASIA (EX. NEAR EAST)    -0.189787\n",
      "SUB-SAHARAN AFRICA      -0.102309\n",
      "NEAR EAST                0.169045\n",
      "WESTERN EUROPE           1.900726\n",
      "OCEANIA                  2.718680\n",
      "NORTHERN AMERICA         3.662115\n"
     ]
    }
   ],
   "source": [
    "# set index to Region in intitial datframe\n",
    "data.index = data['Region']\n",
    "# merge two dataframes on index\n",
    "data_aug = pd.merge(data, total_pop, left_index=True, right_index=True)\n",
    "# calculate weights\n",
    "data_aug['Weights'] = data_aug['Population (mil)_x']/data_aug['Population (mil)_y']\n",
    "# calculate weighted net migration for each country\n",
    "data_aug['Weighted NM'] = data_aug['Net migration']*data_aug['Weights']\n",
    "# calculate average net migration for each region\n",
    "data_aug.index.names = ['Regions']\n",
    "print(pd.pivot_table(data_aug, 'Weighted NM', 'Region', aggfunc = 'sum').sort_values('Weighted NM'))"
   ]
  },
  {
   "cell_type": "markdown",
   "metadata": {},
   "source": [
    "В среднем для стран Балтийского региона миграционный отток (чистый миграционный приток) составляет примерно 1.65 (-1.65) человек из расчета на 1000 жителей за год. Это самый высокий показатель миграционного оттока."
   ]
  },
  {
   "cell_type": "markdown",
   "metadata": {},
   "source": [
    "# Задача 3"
   ]
  },
  {
   "cell_type": "markdown",
   "metadata": {},
   "source": [
    "Часть 1"
   ]
  },
  {
   "cell_type": "code",
   "execution_count": 1,
   "metadata": {},
   "outputs": [],
   "source": [
    "# import libraries\n",
    "from decimal import Decimal\n",
    "from IPython.display import Image\n",
    "from sympy.abc import i, k, m, n, x\n",
    "from sympy import Sum, oo\n",
    "from math import factorial"
   ]
  },
  {
   "cell_type": "markdown",
   "metadata": {},
   "source": [
    "1. Допустим, Х - случайная величина, характеризующая количество запусков ГСЧ и N = 4. Тогда Р(Х=0) = Р(Х=1) = Р(Х=2) = Р(Х=3) = 0.\n",
    "\n",
    "2. Для подсчета вероятности для каждого Х > 4, действует следующая логика (нпример, для Х = 5): а) фиксируем крайнее пятое число (если Х = 5, то пятое число должно отличатсья от уже сгенерированных 4 чисел, причем по определинию задачи среди этих уже сгенерированных 4 чисел должны быть уникальные три числа от 1 до 4); б) посчитаем количество вариантов, удовлетвряющих пункту а): надо разбить 4 \"места\" на три группы (три уникальных числа) так, чтобы не было пустых групп.\n",
    "\n",
    "3. Количество вариантов описывается следующей формулой ниже, однако порядок групп важен, поэтому для этой задачи деление на k! не требуется. Для данной задачи n - значение случайной велеичины Х, k - количество уже сгенерированных уникальных чисел до крайнего(или N-1).\n",
    "\n",
    "4. Полученное количество вариатнов надо домножить на N, так как мы можем выбрать N-1 уникальных чисел из N уникальных чисел N способами. Далее, делим на N^n (общее количество вариантов выбрать N чисел из N уникальных чисел). "
   ]
  },
  {
   "cell_type": "code",
   "execution_count": 15,
   "metadata": {},
   "outputs": [
    {
     "data": {
      "image/png": "[encoded data removed]",
      "text/plain": [
       "<IPython.core.display.Image object>"
      ]
     },
     "execution_count": 15,
     "metadata": {},
     "output_type": "execute_result"
    }
   ],
   "source": [
    "# display formula\n",
    "Image(\"stirling.png\")"
   ]
  },
  {
   "cell_type": "code",
   "execution_count": 2,
   "metadata": {},
   "outputs": [],
   "source": [
    "def exp_val(N):\n",
    "    \n",
    "    # define binomial coefficient to use in the next function\n",
    "    def binom(a,b):\n",
    "        return Decimal(factorial(a)) / (Decimal(factorial(b))*Decimal(factorial(a-b)))\n",
    "    \n",
    "    # define function to compute the number of variants as described above\n",
    "    def stirling_corrected(l,k):\n",
    "        if l==k:\n",
    "            return Decimal(factorial(k))\n",
    "        else:\n",
    "            s = sum((-1)**(k-j)*binom(k,j)*j**l for j in range(k+1))\n",
    "            return s\n",
    "        \n",
    "    # compute the limit of infinite sequence for expected value using sympy library    \n",
    "    val = Sum((N*stirling_corrected(n,N-1))/(N**(n+1))*(n+1), (n, N-1, oo)).doit()\n",
    "        \n",
    "    return val"
   ]
  },
  {
   "cell_type": "code",
   "execution_count": 3,
   "metadata": {},
   "outputs": [
    {
     "name": "stdout",
     "output_type": "stream",
     "text": [
      "3.00000000000000\n"
     ]
    }
   ],
   "source": [
    "# print result for any N\n",
    "print(exp_val())"
   ]
  },
  {
   "cell_type": "markdown",
   "metadata": {},
   "source": [
    "Для N > 100 подсчет уже не такой быстрый"
   ]
  },
  {
   "cell_type": "markdown",
   "metadata": {},
   "source": [
    "Часть 2"
   ]
  },
  {
   "cell_type": "code",
   "execution_count": 4,
   "metadata": {},
   "outputs": [],
   "source": [
    "# import libraries\n",
    "from random import randrange"
   ]
  },
  {
   "cell_type": "code",
   "execution_count": 6,
   "metadata": {},
   "outputs": [],
   "source": [
    "def test(N):\n",
    "    \n",
    "    # set sum of the number of steps in each game equal to 0\n",
    "    cummul = 0\n",
    "    \n",
    "    # initialize game\n",
    "    for i in range (1000000):\n",
    "        # create initial set of integers from 1 to N\n",
    "        initial = set(list(range(1,N+1)))\n",
    "        # create empty test set\n",
    "        test = set()\n",
    "        count = 0\n",
    "        # populate test set with numbers till test set equals initial set\n",
    "        while initial.intersection(test) != initial:\n",
    "            count += 1\n",
    "            test.add(randrange(N)+1)\n",
    "            \n",
    "        cummul += count\n",
    "        \n",
    "    exp_val = cummul/1000000\n",
    "    \n",
    "    return(exp_val)"
   ]
  },
  {
   "cell_type": "code",
   "execution_count": 7,
   "metadata": {},
   "outputs": [
    {
     "name": "stdout",
     "output_type": "stream",
     "text": [
      "3.001145\n"
     ]
    }
   ],
   "source": [
    "print(test(2))"
   ]
  },
  {
   "cell_type": "code",
   "execution_count": null,
   "metadata": {},
   "outputs": [],
   "source": []
  }
 ],
 "metadata": {
  "kernelspec": {
   "display_name": "Python 3",
   "language": "python",
   "name": "python3"
  },
  "language_info": {
   "codemirror_mode": {
    "name": "ipython",
    "version": 3
   },
   "file_extension": ".py",
   "mimetype": "text/x-python",
   "name": "python",
   "nbconvert_exporter": "python",
   "pygments_lexer": "ipython3",
   "version": "3.8.5"
  }
 },
 "nbformat": 4,
 "nbformat_minor": 4
}
